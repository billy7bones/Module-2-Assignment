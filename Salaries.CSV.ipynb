{
 "cells": [
  {
   "cell_type": "code",
   "execution_count": 1,
   "id": "legal-interface",
   "metadata": {
    "execution": {
     "iopub.execute_input": "2021-06-11T04:58:44.520870Z",
     "iopub.status.busy": "2021-06-11T04:58:44.519877Z",
     "iopub.status.idle": "2021-06-11T04:58:45.262460Z",
     "shell.execute_reply": "2021-06-11T04:58:45.263064Z",
     "shell.execute_reply.started": "2021-06-11T04:42:48.614534Z"
    },
    "papermill": {
     "duration": 0.75886,
     "end_time": "2021-06-11T04:58:45.263361",
     "exception": false,
     "start_time": "2021-06-11T04:58:44.504501",
     "status": "completed"
    },
    "tags": []
   },
   "outputs": [],
   "source": [
    "import numpy as np\n",
    "import pandas as pd\n",
    "import seaborn as sns\n",
    "import matplotlib.pyplot as mp\n",
    "%matplotlib inline"
   ]
  },
  {
   "cell_type": "code",
   "execution_count": 2,
   "id": "criminal-activity",
   "metadata": {
    "execution": {
     "iopub.execute_input": "2021-06-11T04:58:45.288967Z",
     "iopub.status.busy": "2021-06-11T04:58:45.286868Z",
     "iopub.status.idle": "2021-06-11T04:58:46.387423Z",
     "shell.execute_reply": "2021-06-11T04:58:46.388014Z",
     "shell.execute_reply.started": "2021-06-11T04:42:53.236955Z"
    },
    "papermill": {
     "duration": 1.113927,
     "end_time": "2021-06-11T04:58:46.388207",
     "exception": false,
     "start_time": "2021-06-11T04:58:45.274280",
     "status": "completed"
    },
    "tags": []
   },
   "outputs": [
    {
     "name": "stderr",
     "output_type": "stream",
     "text": [
      "/opt/conda/lib/python3.7/site-packages/IPython/core/interactiveshell.py:3166: DtypeWarning: Columns (2,3,4,5) have mixed types.Specify dtype option on import or set low_memory=False.\n",
      "  interactivity=interactivity, compiler=compiler, result=result)\n"
     ]
    }
   ],
   "source": [
    "df= pd.read_csv('../input/20112018-salaries-for-san-francisco/Total.csv')"
   ]
  },
  {
   "cell_type": "code",
   "execution_count": 3,
   "id": "coastal-envelope",
   "metadata": {
    "execution": {
     "iopub.execute_input": "2021-06-11T04:58:46.424402Z",
     "iopub.status.busy": "2021-06-11T04:58:46.423503Z",
     "iopub.status.idle": "2021-06-11T04:58:46.510108Z",
     "shell.execute_reply": "2021-06-11T04:58:46.509481Z",
     "shell.execute_reply.started": "2021-06-11T04:42:58.098388Z"
    },
    "papermill": {
     "duration": 0.110097,
     "end_time": "2021-06-11T04:58:46.510237",
     "exception": false,
     "start_time": "2021-06-11T04:58:46.400140",
     "status": "completed"
    },
    "tags": []
   },
   "outputs": [
    {
     "name": "stdout",
     "output_type": "stream",
     "text": [
      "<class 'pandas.core.frame.DataFrame'>\n",
      "RangeIndex: 312882 entries, 0 to 312881\n",
      "Data columns (total 9 columns):\n",
      " #   Column            Non-Null Count   Dtype  \n",
      "---  ------            --------------   -----  \n",
      " 0   EmployeeName      312882 non-null  object \n",
      " 1   JobTitle          312882 non-null  object \n",
      " 2   BasePay           312882 non-null  object \n",
      " 3   OvertimePay       312882 non-null  object \n",
      " 4   OtherPay          312882 non-null  object \n",
      " 5   Benefits          312882 non-null  object \n",
      " 6   TotalPay          312882 non-null  float64\n",
      " 7   TotalPayBenefits  312882 non-null  float64\n",
      " 8   Year              312882 non-null  int64  \n",
      "dtypes: float64(2), int64(1), object(6)\n",
      "memory usage: 21.5+ MB\n"
     ]
    }
   ],
   "source": [
    "df.info()"
   ]
  },
  {
   "cell_type": "code",
   "execution_count": 4,
   "id": "collective-facial",
   "metadata": {
    "execution": {
     "iopub.execute_input": "2021-06-11T04:58:46.538575Z",
     "iopub.status.busy": "2021-06-11T04:58:46.537988Z",
     "iopub.status.idle": "2021-06-11T04:58:46.554969Z",
     "shell.execute_reply": "2021-06-11T04:58:46.554095Z",
     "shell.execute_reply.started": "2021-06-11T04:43:05.545698Z"
    },
    "papermill": {
     "duration": 0.033647,
     "end_time": "2021-06-11T04:58:46.555110",
     "exception": false,
     "start_time": "2021-06-11T04:58:46.521463",
     "status": "completed"
    },
    "tags": []
   },
   "outputs": [
    {
     "data": {
      "text/html": [
       "<div>\n",
       "<style scoped>\n",
       "    .dataframe tbody tr th:only-of-type {\n",
       "        vertical-align: middle;\n",
       "    }\n",
       "\n",
       "    .dataframe tbody tr th {\n",
       "        vertical-align: top;\n",
       "    }\n",
       "\n",
       "    .dataframe thead th {\n",
       "        text-align: right;\n",
       "    }\n",
       "</style>\n",
       "<table border=\"1\" class=\"dataframe\">\n",
       "  <thead>\n",
       "    <tr style=\"text-align: right;\">\n",
       "      <th></th>\n",
       "      <th>EmployeeName</th>\n",
       "      <th>JobTitle</th>\n",
       "      <th>BasePay</th>\n",
       "      <th>OvertimePay</th>\n",
       "      <th>OtherPay</th>\n",
       "      <th>Benefits</th>\n",
       "      <th>TotalPay</th>\n",
       "      <th>TotalPayBenefits</th>\n",
       "      <th>Year</th>\n",
       "    </tr>\n",
       "  </thead>\n",
       "  <tbody>\n",
       "    <tr>\n",
       "      <th>0</th>\n",
       "      <td>NATHANIEL FORD</td>\n",
       "      <td>GENERAL MANAGER-METROPOLITAN TRANSIT AUTHORITY</td>\n",
       "      <td>167411.18</td>\n",
       "      <td>0.0</td>\n",
       "      <td>400184.25</td>\n",
       "      <td>Not Provided</td>\n",
       "      <td>567595.43</td>\n",
       "      <td>567595.43</td>\n",
       "      <td>2011</td>\n",
       "    </tr>\n",
       "    <tr>\n",
       "      <th>1</th>\n",
       "      <td>GARY JIMENEZ</td>\n",
       "      <td>CAPTAIN III (POLICE DEPARTMENT)</td>\n",
       "      <td>155966.02</td>\n",
       "      <td>245131.88</td>\n",
       "      <td>137811.38</td>\n",
       "      <td>Not Provided</td>\n",
       "      <td>538909.28</td>\n",
       "      <td>538909.28</td>\n",
       "      <td>2011</td>\n",
       "    </tr>\n",
       "    <tr>\n",
       "      <th>2</th>\n",
       "      <td>ALBERT PARDINI</td>\n",
       "      <td>CAPTAIN III (POLICE DEPARTMENT)</td>\n",
       "      <td>212739.13</td>\n",
       "      <td>106088.18</td>\n",
       "      <td>16452.6</td>\n",
       "      <td>Not Provided</td>\n",
       "      <td>335279.91</td>\n",
       "      <td>335279.91</td>\n",
       "      <td>2011</td>\n",
       "    </tr>\n",
       "    <tr>\n",
       "      <th>3</th>\n",
       "      <td>CHRISTOPHER CHONG</td>\n",
       "      <td>WIRE ROPE CABLE MAINTENANCE MECHANIC</td>\n",
       "      <td>77916.0</td>\n",
       "      <td>56120.71</td>\n",
       "      <td>198306.9</td>\n",
       "      <td>Not Provided</td>\n",
       "      <td>332343.61</td>\n",
       "      <td>332343.61</td>\n",
       "      <td>2011</td>\n",
       "    </tr>\n",
       "    <tr>\n",
       "      <th>4</th>\n",
       "      <td>PATRICK GARDNER</td>\n",
       "      <td>DEPUTY CHIEF OF DEPARTMENT,(FIRE DEPARTMENT)</td>\n",
       "      <td>134401.6</td>\n",
       "      <td>9737.0</td>\n",
       "      <td>182234.59</td>\n",
       "      <td>Not Provided</td>\n",
       "      <td>326373.19</td>\n",
       "      <td>326373.19</td>\n",
       "      <td>2011</td>\n",
       "    </tr>\n",
       "  </tbody>\n",
       "</table>\n",
       "</div>"
      ],
      "text/plain": [
       "        EmployeeName                                        JobTitle  \\\n",
       "0     NATHANIEL FORD  GENERAL MANAGER-METROPOLITAN TRANSIT AUTHORITY   \n",
       "1       GARY JIMENEZ                 CAPTAIN III (POLICE DEPARTMENT)   \n",
       "2     ALBERT PARDINI                 CAPTAIN III (POLICE DEPARTMENT)   \n",
       "3  CHRISTOPHER CHONG            WIRE ROPE CABLE MAINTENANCE MECHANIC   \n",
       "4    PATRICK GARDNER    DEPUTY CHIEF OF DEPARTMENT,(FIRE DEPARTMENT)   \n",
       "\n",
       "     BasePay OvertimePay   OtherPay      Benefits   TotalPay  \\\n",
       "0  167411.18         0.0  400184.25  Not Provided  567595.43   \n",
       "1  155966.02   245131.88  137811.38  Not Provided  538909.28   \n",
       "2  212739.13   106088.18    16452.6  Not Provided  335279.91   \n",
       "3    77916.0    56120.71   198306.9  Not Provided  332343.61   \n",
       "4   134401.6      9737.0  182234.59  Not Provided  326373.19   \n",
       "\n",
       "   TotalPayBenefits  Year  \n",
       "0         567595.43  2011  \n",
       "1         538909.28  2011  \n",
       "2         335279.91  2011  \n",
       "3         332343.61  2011  \n",
       "4         326373.19  2011  "
      ]
     },
     "execution_count": 4,
     "metadata": {},
     "output_type": "execute_result"
    }
   ],
   "source": [
    "df.head()"
   ]
  },
  {
   "cell_type": "code",
   "execution_count": 5,
   "id": "confused-tiger",
   "metadata": {
    "execution": {
     "iopub.execute_input": "2021-06-11T04:58:46.583406Z",
     "iopub.status.busy": "2021-06-11T04:58:46.582825Z",
     "iopub.status.idle": "2021-06-11T04:58:46.586147Z",
     "shell.execute_reply": "2021-06-11T04:58:46.585634Z",
     "shell.execute_reply.started": "2021-06-11T04:43:08.594429Z"
    },
    "papermill": {
     "duration": 0.019315,
     "end_time": "2021-06-11T04:58:46.586272",
     "exception": false,
     "start_time": "2021-06-11T04:58:46.566957",
     "status": "completed"
    },
    "tags": []
   },
   "outputs": [
    {
     "name": "stdout",
     "output_type": "stream",
     "text": [
      "This Dataset countains 312882 Rows and 9 Columns\n"
     ]
    }
   ],
   "source": [
    "print('This Dataset countains {} Rows and {} Columns'.format(df.shape[0], df.shape[1]))"
   ]
  },
  {
   "cell_type": "code",
   "execution_count": 6,
   "id": "changed-alias",
   "metadata": {
    "execution": {
     "iopub.execute_input": "2021-06-11T04:58:46.663154Z",
     "iopub.status.busy": "2021-06-11T04:58:46.662512Z",
     "iopub.status.idle": "2021-06-11T04:58:46.877128Z",
     "shell.execute_reply": "2021-06-11T04:58:46.876503Z",
     "shell.execute_reply.started": "2021-06-11T04:43:10.374564Z"
    },
    "papermill": {
     "duration": 0.278825,
     "end_time": "2021-06-11T04:58:46.877279",
     "exception": false,
     "start_time": "2021-06-11T04:58:46.598454",
     "status": "completed"
    },
    "tags": []
   },
   "outputs": [],
   "source": [
    "### we must their type to float64 \n",
    "\n",
    "series_list = ['BasePay', 'OvertimePay', 'OtherPay', 'Benefits']\n",
    "for series in series_list:\n",
    "    df[series] = pd.to_numeric(df[series], errors='coerce')"
   ]
  },
  {
   "cell_type": "code",
   "execution_count": 7,
   "id": "union-sandwich",
   "metadata": {
    "execution": {
     "iopub.execute_input": "2021-06-11T04:58:46.906569Z",
     "iopub.status.busy": "2021-06-11T04:58:46.906012Z",
     "iopub.status.idle": "2021-06-11T04:58:46.950809Z",
     "shell.execute_reply": "2021-06-11T04:58:46.951483Z",
     "shell.execute_reply.started": "2021-06-11T04:43:29.444675Z"
    },
    "papermill": {
     "duration": 0.062248,
     "end_time": "2021-06-11T04:58:46.951699",
     "exception": false,
     "start_time": "2021-06-11T04:58:46.889451",
     "status": "completed"
    },
    "tags": []
   },
   "outputs": [
    {
     "name": "stdout",
     "output_type": "stream",
     "text": [
      "<class 'pandas.core.frame.DataFrame'>\n",
      "RangeIndex: 312882 entries, 0 to 312881\n",
      "Data columns (total 9 columns):\n",
      " #   Column            Non-Null Count   Dtype  \n",
      "---  ------            --------------   -----  \n",
      " 0   EmployeeName      312882 non-null  object \n",
      " 1   JobTitle          312882 non-null  object \n",
      " 2   BasePay           312276 non-null  float64\n",
      " 3   OvertimePay       312881 non-null  float64\n",
      " 4   OtherPay          312881 non-null  float64\n",
      " 5   Benefits          276722 non-null  float64\n",
      " 6   TotalPay          312882 non-null  float64\n",
      " 7   TotalPayBenefits  312882 non-null  float64\n",
      " 8   Year              312882 non-null  int64  \n",
      "dtypes: float64(6), int64(1), object(2)\n",
      "memory usage: 21.5+ MB\n"
     ]
    }
   ],
   "source": [
    "df.info()"
   ]
  },
  {
   "cell_type": "code",
   "execution_count": 8,
   "id": "built-words",
   "metadata": {
    "execution": {
     "iopub.execute_input": "2021-06-11T04:58:46.982941Z",
     "iopub.status.busy": "2021-06-11T04:58:46.982318Z",
     "iopub.status.idle": "2021-06-11T04:58:47.113365Z",
     "shell.execute_reply": "2021-06-11T04:58:47.112915Z",
     "shell.execute_reply.started": "2021-06-11T04:43:31.664918Z"
    },
    "papermill": {
     "duration": 0.148401,
     "end_time": "2021-06-11T04:58:47.113494",
     "exception": false,
     "start_time": "2021-06-11T04:58:46.965093",
     "status": "completed"
    },
    "tags": []
   },
   "outputs": [
    {
     "data": {
      "text/html": [
       "<div>\n",
       "<style scoped>\n",
       "    .dataframe tbody tr th:only-of-type {\n",
       "        vertical-align: middle;\n",
       "    }\n",
       "\n",
       "    .dataframe tbody tr th {\n",
       "        vertical-align: top;\n",
       "    }\n",
       "\n",
       "    .dataframe thead th {\n",
       "        text-align: right;\n",
       "    }\n",
       "</style>\n",
       "<table border=\"1\" class=\"dataframe\">\n",
       "  <thead>\n",
       "    <tr style=\"text-align: right;\">\n",
       "      <th></th>\n",
       "      <th>BasePay</th>\n",
       "      <th>TotalPay</th>\n",
       "      <th>Benefits</th>\n",
       "      <th>OvertimePay</th>\n",
       "      <th>OtherPay</th>\n",
       "      <th>TotalPayBenefits</th>\n",
       "    </tr>\n",
       "  </thead>\n",
       "  <tbody>\n",
       "    <tr>\n",
       "      <th>count</th>\n",
       "      <td>312276.000000</td>\n",
       "      <td>312882.000000</td>\n",
       "      <td>276722.000000</td>\n",
       "      <td>312881.000000</td>\n",
       "      <td>312881.000000</td>\n",
       "      <td>312882.000000</td>\n",
       "    </tr>\n",
       "    <tr>\n",
       "      <th>mean</th>\n",
       "      <td>69808.257496</td>\n",
       "      <td>78802.645788</td>\n",
       "      <td>25016.917292</td>\n",
       "      <td>5668.929393</td>\n",
       "      <td>3460.694974</td>\n",
       "      <td>100928.339777</td>\n",
       "    </tr>\n",
       "    <tr>\n",
       "      <th>std</th>\n",
       "      <td>45376.929428</td>\n",
       "      <td>53230.758542</td>\n",
       "      <td>15089.077103</td>\n",
       "      <td>12745.655309</td>\n",
       "      <td>7387.263120</td>\n",
       "      <td>66485.186495</td>\n",
       "    </tr>\n",
       "    <tr>\n",
       "      <th>min</th>\n",
       "      <td>-474.400000</td>\n",
       "      <td>-618.130000</td>\n",
       "      <td>-13939.420000</td>\n",
       "      <td>-292.800000</td>\n",
       "      <td>-7058.590000</td>\n",
       "      <td>-3628.780000</td>\n",
       "    </tr>\n",
       "    <tr>\n",
       "      <th>25%</th>\n",
       "      <td>35722.365000</td>\n",
       "      <td>38803.000000</td>\n",
       "      <td>12729.762500</td>\n",
       "      <td>0.000000</td>\n",
       "      <td>0.000000</td>\n",
       "      <td>48955.072500</td>\n",
       "    </tr>\n",
       "    <tr>\n",
       "      <th>50%</th>\n",
       "      <td>67710.450000</td>\n",
       "      <td>74908.790000</td>\n",
       "      <td>28327.330000</td>\n",
       "      <td>0.000000</td>\n",
       "      <td>728.000000</td>\n",
       "      <td>100011.290000</td>\n",
       "    </tr>\n",
       "    <tr>\n",
       "      <th>75%</th>\n",
       "      <td>99312.302500</td>\n",
       "      <td>111386.897500</td>\n",
       "      <td>35268.162500</td>\n",
       "      <td>5223.120000</td>\n",
       "      <td>3958.680000</td>\n",
       "      <td>142376.300000</td>\n",
       "    </tr>\n",
       "    <tr>\n",
       "      <th>max</th>\n",
       "      <td>592394.340000</td>\n",
       "      <td>592394.340000</td>\n",
       "      <td>125891.730000</td>\n",
       "      <td>309481.030000</td>\n",
       "      <td>400184.250000</td>\n",
       "      <td>712802.360000</td>\n",
       "    </tr>\n",
       "  </tbody>\n",
       "</table>\n",
       "</div>"
      ],
      "text/plain": [
       "             BasePay       TotalPay       Benefits    OvertimePay  \\\n",
       "count  312276.000000  312882.000000  276722.000000  312881.000000   \n",
       "mean    69808.257496   78802.645788   25016.917292    5668.929393   \n",
       "std     45376.929428   53230.758542   15089.077103   12745.655309   \n",
       "min      -474.400000    -618.130000  -13939.420000    -292.800000   \n",
       "25%     35722.365000   38803.000000   12729.762500       0.000000   \n",
       "50%     67710.450000   74908.790000   28327.330000       0.000000   \n",
       "75%     99312.302500  111386.897500   35268.162500    5223.120000   \n",
       "max    592394.340000  592394.340000  125891.730000  309481.030000   \n",
       "\n",
       "            OtherPay  TotalPayBenefits  \n",
       "count  312881.000000     312882.000000  \n",
       "mean     3460.694974     100928.339777  \n",
       "std      7387.263120      66485.186495  \n",
       "min     -7058.590000      -3628.780000  \n",
       "25%         0.000000      48955.072500  \n",
       "50%       728.000000     100011.290000  \n",
       "75%      3958.680000     142376.300000  \n",
       "max    400184.250000     712802.360000  "
      ]
     },
     "execution_count": 8,
     "metadata": {},
     "output_type": "execute_result"
    }
   ],
   "source": [
    "df[['BasePay','TotalPay','Benefits','OvertimePay','OtherPay','TotalPayBenefits']].describe()"
   ]
  },
  {
   "cell_type": "code",
   "execution_count": 9,
   "id": "vocal-insertion",
   "metadata": {
    "execution": {
     "iopub.execute_input": "2021-06-11T04:58:47.143618Z",
     "iopub.status.busy": "2021-06-11T04:58:47.143065Z",
     "iopub.status.idle": "2021-06-11T04:58:47.155702Z",
     "shell.execute_reply": "2021-06-11T04:58:47.155259Z",
     "shell.execute_reply.started": "2021-06-11T04:43:35.102342Z"
    },
    "papermill": {
     "duration": 0.029638,
     "end_time": "2021-06-11T04:58:47.155851",
     "exception": false,
     "start_time": "2021-06-11T04:58:47.126213",
     "status": "completed"
    },
    "tags": []
   },
   "outputs": [
    {
     "data": {
      "text/plain": [
       "'The information of 8 years are available in the dataset:[2011 2012 2013 2014 2015 2016 2017 2018]'"
      ]
     },
     "execution_count": 9,
     "metadata": {},
     "output_type": "execute_result"
    }
   ],
   "source": [
    "A=df['Year'].nunique()\n",
    "B=df['Year'].unique()\n",
    "'The information of {} years are available in the dataset:{}'.format(A,B)"
   ]
  },
  {
   "cell_type": "code",
   "execution_count": 10,
   "id": "equal-camel",
   "metadata": {
    "execution": {
     "iopub.execute_input": "2021-06-11T04:58:47.186392Z",
     "iopub.status.busy": "2021-06-11T04:58:47.185833Z",
     "iopub.status.idle": "2021-06-11T04:58:47.220294Z",
     "shell.execute_reply": "2021-06-11T04:58:47.219868Z",
     "shell.execute_reply.started": "2021-06-11T04:43:37.676008Z"
    },
    "papermill": {
     "duration": 0.051753,
     "end_time": "2021-06-11T04:58:47.220422",
     "exception": false,
     "start_time": "2021-06-11T04:58:47.168669",
     "status": "completed"
    },
    "tags": []
   },
   "outputs": [
    {
     "data": {
      "text/html": [
       "<div>\n",
       "<style scoped>\n",
       "    .dataframe tbody tr th:only-of-type {\n",
       "        vertical-align: middle;\n",
       "    }\n",
       "\n",
       "    .dataframe tbody tr th {\n",
       "        vertical-align: top;\n",
       "    }\n",
       "\n",
       "    .dataframe thead th {\n",
       "        text-align: right;\n",
       "    }\n",
       "</style>\n",
       "<table border=\"1\" class=\"dataframe\">\n",
       "  <thead>\n",
       "    <tr style=\"text-align: right;\">\n",
       "      <th></th>\n",
       "      <th>BasePay</th>\n",
       "      <th>OvertimePay</th>\n",
       "      <th>OtherPay</th>\n",
       "      <th>Benefits</th>\n",
       "      <th>TotalPay</th>\n",
       "      <th>TotalPayBenefits</th>\n",
       "    </tr>\n",
       "    <tr>\n",
       "      <th>Year</th>\n",
       "      <th></th>\n",
       "      <th></th>\n",
       "      <th></th>\n",
       "      <th></th>\n",
       "      <th></th>\n",
       "      <th></th>\n",
       "    </tr>\n",
       "  </thead>\n",
       "  <tbody>\n",
       "    <tr>\n",
       "      <th>2011</th>\n",
       "      <td>63595.956517</td>\n",
       "      <td>4531.065429</td>\n",
       "      <td>3617.081926</td>\n",
       "      <td>NaN</td>\n",
       "      <td>71744.103871</td>\n",
       "      <td>71744.103871</td>\n",
       "    </tr>\n",
       "    <tr>\n",
       "      <th>2012</th>\n",
       "      <td>65436.406857</td>\n",
       "      <td>5023.417824</td>\n",
       "      <td>3653.437583</td>\n",
       "      <td>26439.966967</td>\n",
       "      <td>74113.262265</td>\n",
       "      <td>100553.229232</td>\n",
       "    </tr>\n",
       "    <tr>\n",
       "      <th>2013</th>\n",
       "      <td>69630.030216</td>\n",
       "      <td>5281.641980</td>\n",
       "      <td>3819.969007</td>\n",
       "      <td>23829.076572</td>\n",
       "      <td>77611.443142</td>\n",
       "      <td>101440.519714</td>\n",
       "    </tr>\n",
       "    <tr>\n",
       "      <th>2014</th>\n",
       "      <td>66564.421924</td>\n",
       "      <td>5401.993737</td>\n",
       "      <td>3505.421251</td>\n",
       "      <td>24789.601756</td>\n",
       "      <td>75471.836912</td>\n",
       "      <td>100261.438668</td>\n",
       "    </tr>\n",
       "    <tr>\n",
       "      <th>2015</th>\n",
       "      <td>68776.293324</td>\n",
       "      <td>5606.934061</td>\n",
       "      <td>3125.042178</td>\n",
       "      <td>24217.640375</td>\n",
       "      <td>77508.269562</td>\n",
       "      <td>101725.909937</td>\n",
       "    </tr>\n",
       "    <tr>\n",
       "      <th>2016</th>\n",
       "      <td>71181.405996</td>\n",
       "      <td>6136.422376</td>\n",
       "      <td>3197.303205</td>\n",
       "      <td>24068.862102</td>\n",
       "      <td>80513.166356</td>\n",
       "      <td>104581.440982</td>\n",
       "    </tr>\n",
       "    <tr>\n",
       "      <th>2017</th>\n",
       "      <td>74570.581134</td>\n",
       "      <td>6325.774603</td>\n",
       "      <td>3338.290051</td>\n",
       "      <td>25434.816408</td>\n",
       "      <td>84234.645789</td>\n",
       "      <td>109669.462197</td>\n",
       "    </tr>\n",
       "    <tr>\n",
       "      <th>2018</th>\n",
       "      <td>76947.426822</td>\n",
       "      <td>6746.790232</td>\n",
       "      <td>3487.691270</td>\n",
       "      <td>26292.455190</td>\n",
       "      <td>87181.908324</td>\n",
       "      <td>113474.363514</td>\n",
       "    </tr>\n",
       "  </tbody>\n",
       "</table>\n",
       "</div>"
      ],
      "text/plain": [
       "           BasePay  OvertimePay     OtherPay      Benefits      TotalPay  \\\n",
       "Year                                                                       \n",
       "2011  63595.956517  4531.065429  3617.081926           NaN  71744.103871   \n",
       "2012  65436.406857  5023.417824  3653.437583  26439.966967  74113.262265   \n",
       "2013  69630.030216  5281.641980  3819.969007  23829.076572  77611.443142   \n",
       "2014  66564.421924  5401.993737  3505.421251  24789.601756  75471.836912   \n",
       "2015  68776.293324  5606.934061  3125.042178  24217.640375  77508.269562   \n",
       "2016  71181.405996  6136.422376  3197.303205  24068.862102  80513.166356   \n",
       "2017  74570.581134  6325.774603  3338.290051  25434.816408  84234.645789   \n",
       "2018  76947.426822  6746.790232  3487.691270  26292.455190  87181.908324   \n",
       "\n",
       "      TotalPayBenefits  \n",
       "Year                    \n",
       "2011      71744.103871  \n",
       "2012     100553.229232  \n",
       "2013     101440.519714  \n",
       "2014     100261.438668  \n",
       "2015     101725.909937  \n",
       "2016     104581.440982  \n",
       "2017     109669.462197  \n",
       "2018     113474.363514  "
      ]
     },
     "execution_count": 10,
     "metadata": {},
     "output_type": "execute_result"
    }
   ],
   "source": [
    "df.groupby('Year').mean()"
   ]
  },
  {
   "cell_type": "code",
   "execution_count": 11,
   "id": "simple-calvin",
   "metadata": {
    "execution": {
     "iopub.execute_input": "2021-06-11T04:58:47.251451Z",
     "iopub.status.busy": "2021-06-11T04:58:47.250914Z",
     "iopub.status.idle": "2021-06-11T04:58:50.262333Z",
     "shell.execute_reply": "2021-06-11T04:58:50.261895Z",
     "shell.execute_reply.started": "2021-06-11T04:43:39.809801Z"
    },
    "papermill": {
     "duration": 3.028806,
     "end_time": "2021-06-11T04:58:50.262462",
     "exception": false,
     "start_time": "2021-06-11T04:58:47.233656",
     "status": "completed"
    },
    "tags": []
   },
   "outputs": [
    {
     "data": {
      "text/plain": [
       "<AxesSubplot:xlabel='TotalPay', ylabel='Density'>"
      ]
     },
     "execution_count": 11,
     "metadata": {},
     "output_type": "execute_result"
    },
    {
     "data": {
      "image/png": "[encoded data removed]",
      "text/plain": [
       "<Figure size 432x288 with 1 Axes>"
      ]
     },
     "metadata": {
      "needs_background": "light"
     },
     "output_type": "display_data"
    }
   ],
   "source": [
    "\n",
    "\n",
    "sns.kdeplot(df['TotalPay'])\n",
    "sns.kdeplot(df['BasePay'])\n"
   ]
  },
  {
   "cell_type": "code",
   "execution_count": 12,
   "id": "sunset-green",
   "metadata": {
    "execution": {
     "iopub.execute_input": "2021-06-11T04:58:50.295961Z",
     "iopub.status.busy": "2021-06-11T04:58:50.295395Z",
     "iopub.status.idle": "2021-06-11T04:58:53.632198Z",
     "shell.execute_reply": "2021-06-11T04:58:53.632590Z",
     "shell.execute_reply.started": "2021-06-11T04:43:44.568927Z"
    },
    "papermill": {
     "duration": 3.355924,
     "end_time": "2021-06-11T04:58:53.632814",
     "exception": false,
     "start_time": "2021-06-11T04:58:50.276890",
     "status": "completed"
    },
    "tags": []
   },
   "outputs": [
    {
     "data": {
      "text/plain": [
       "<AxesSubplot:xlabel='Year', ylabel='TotalPay'>"
      ]
     },
     "execution_count": 12,
     "metadata": {},
     "output_type": "execute_result"
    },
    {
     "data": {
      "image/png": "[encoded data removed]",
      "text/plain": [
       "<Figure size 432x288 with 1 Axes>"
      ]
     },
     "metadata": {
      "needs_background": "light"
     },
     "output_type": "display_data"
    }
   ],
   "source": [
    "sns.barplot(data=df, x='Year', y='TotalPay')"
   ]
  },
  {
   "cell_type": "code",
   "execution_count": 13,
   "id": "established-shift",
   "metadata": {
    "execution": {
     "iopub.execute_input": "2021-06-11T04:58:53.677781Z",
     "iopub.status.busy": "2021-06-11T04:58:53.668006Z",
     "iopub.status.idle": "2021-06-11T04:58:54.045907Z",
     "shell.execute_reply": "2021-06-11T04:58:54.045326Z",
     "shell.execute_reply.started": "2021-06-11T04:43:50.540287Z"
    },
    "papermill": {
     "duration": 0.397971,
     "end_time": "2021-06-11T04:58:54.046037",
     "exception": false,
     "start_time": "2021-06-11T04:58:53.648066",
     "status": "completed"
    },
    "tags": []
   },
   "outputs": [
    {
     "data": {
      "text/plain": [
       "Year\n",
       "2011    1045\n",
       "2012    1044\n",
       "2013    1051\n",
       "2014     996\n",
       "2015    1010\n",
       "2016    1009\n",
       "2017    1017\n",
       "2018    1000\n",
       "Name: JobTitle, dtype: int64"
      ]
     },
     "execution_count": 13,
     "metadata": {},
     "output_type": "execute_result"
    }
   ],
   "source": [
    "df.groupby('Year').nunique()['JobTitle']"
   ]
  },
  {
   "cell_type": "code",
   "execution_count": null,
   "id": "final-terror",
   "metadata": {
    "execution": {
     "iopub.execute_input": "2021-06-11T04:43:53.686651Z",
     "iopub.status.busy": "2021-06-11T04:43:53.686322Z",
     "iopub.status.idle": "2021-06-11T04:43:53.723791Z",
     "shell.execute_reply": "2021-06-11T04:43:53.722835Z",
     "shell.execute_reply.started": "2021-06-11T04:43:53.686622Z"
    },
    "papermill": {
     "duration": 0.015044,
     "end_time": "2021-06-11T04:58:54.076503",
     "exception": false,
     "start_time": "2021-06-11T04:58:54.061459",
     "status": "completed"
    },
    "tags": []
   },
   "outputs": [],
   "source": []
  },
  {
   "cell_type": "code",
   "execution_count": null,
   "id": "presidential-society",
   "metadata": {
    "execution": {
     "iopub.execute_input": "2021-06-11T04:44:09.905418Z",
     "iopub.status.busy": "2021-06-11T04:44:09.905111Z",
     "iopub.status.idle": "2021-06-11T04:44:09.956566Z",
     "shell.execute_reply": "2021-06-11T04:44:09.955617Z",
     "shell.execute_reply.started": "2021-06-11T04:44:09.905385Z"
    },
    "papermill": {
     "duration": 0.015116,
     "end_time": "2021-06-11T04:58:54.107092",
     "exception": false,
     "start_time": "2021-06-11T04:58:54.091976",
     "status": "completed"
    },
    "tags": []
   },
   "outputs": [],
   "source": []
  },
  {
   "cell_type": "code",
   "execution_count": null,
   "id": "ordered-eagle",
   "metadata": {
    "execution": {
     "iopub.execute_input": "2021-06-11T04:43:59.714244Z",
     "iopub.status.busy": "2021-06-11T04:43:59.713904Z",
     "iopub.status.idle": "2021-06-11T04:43:59.728061Z",
     "shell.execute_reply": "2021-06-11T04:43:59.727105Z",
     "shell.execute_reply.started": "2021-06-11T04:43:59.714217Z"
    },
    "papermill": {
     "duration": 0.015709,
     "end_time": "2021-06-11T04:58:54.138147",
     "exception": false,
     "start_time": "2021-06-11T04:58:54.122438",
     "status": "completed"
    },
    "tags": []
   },
   "outputs": [],
   "source": []
  },
  {
   "cell_type": "code",
   "execution_count": null,
   "id": "gorgeous-intention",
   "metadata": {
    "papermill": {
     "duration": 0.015307,
     "end_time": "2021-06-11T04:58:54.169104",
     "exception": false,
     "start_time": "2021-06-11T04:58:54.153797",
     "status": "completed"
    },
    "tags": []
   },
   "outputs": [],
   "source": []
  }
 ],
 "metadata": {
  "kernelspec": {
   "display_name": "Python 3",
   "language": "python",
   "name": "python3"
  },
  "language_info": {
   "codemirror_mode": {
    "name": "ipython",
    "version": 3
   },
   "file_extension": ".py",
   "mimetype": "text/x-python",
   "name": "python",
   "nbconvert_exporter": "python",
   "pygments_lexer": "ipython3",
   "version": "3.7.10"
  },
  "papermill": {
   "default_parameters": {},
   "duration": 17.736607,
   "end_time": "2021-06-11T04:58:55.414763",
   "environment_variables": {},
   "exception": null,
   "input_path": "__notebook__.ipynb",
   "output_path": "__notebook__.ipynb",
   "parameters": {},
   "start_time": "2021-06-11T04:58:37.678156",
   "version": "2.3.3"
  }
 },
 "nbformat": 4,
 "nbformat_minor": 5
}
